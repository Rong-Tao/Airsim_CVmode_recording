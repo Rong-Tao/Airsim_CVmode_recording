{
 "cells": [
  {
   "cell_type": "code",
   "execution_count": 11,
   "metadata": {},
   "outputs": [],
   "source": [
    "from scipy.stats import truncnorm\n",
    "import random\n",
    "import math\n",
    "def get_truncated_normal(mean=0.8, sd=(11-0.8)/3, low=0.8, upp=11):\n",
    "    return truncnorm(\n",
    "        (low - mean) / sd, (upp - mean) / sd, loc=mean, scale=sd)\n",
    "\n",
    "def to_quaternion(pitch, roll, yaw):\n",
    "    t0 = math.cos(yaw * 0.5)\n",
    "    t1 = math.sin(yaw * 0.5)\n",
    "    t2 = math.cos(roll * 0.5)\n",
    "    t3 = math.sin(roll * 0.5)\n",
    "    t4 = math.cos(pitch * 0.5)\n",
    "    t5 = math.sin(pitch * 0.5)\n",
    "\n",
    "    w_val = t0 * t2 * t4 + t1 * t3 * t5 #w\n",
    "    x_val = t0 * t3 * t4 - t1 * t2 * t5 #x\n",
    "    y_val = t0 * t2 * t5 + t1 * t3 * t4 #y\n",
    "    z_val = t1 * t2 * t4 - t0 * t3 * t5 #z\n",
    "    return w_val, x_val, y_val, z_val\n",
    "\n",
    "def generate_pose():\n",
    "    # Position coordinates uniform from 0 to 1\n",
    "    x_val = random.uniform(-13, 5)\n",
    "    y_val = random.uniform(-12, -1.3)\n",
    "    z_distribution = get_truncated_normal()\n",
    "    z_val = z_distribution.rvs() \n",
    "    \n",
    "    ud   = random.uniform(0, (z_val-0.8)/10.2*0.25*math.pi)\n",
    "    lr = random.uniform(0, 2*math.pi)\n",
    "    \n",
    "    \n",
    "    # Calculate the quaternion components\n",
    "    w_ori, x_ori, y_ori, z_ori = to_quaternion(ud, lr, 0)\n",
    "    # Format the pose data\n",
    "    pose_data = f\"{w_ori} {x_ori} {y_ori} {z_ori} {x_val} {y_val} {-z_val}\\n\"\n",
    "    return pose_data\n",
    "\n",
    "# Write the generated pose data to the text file\n",
    "with open(\"pose_data.txt\", \"a\") as file:\n",
    "    for _ in range(1000):  # Generating 10 poses\n",
    "        pose_data = generate_pose()\n",
    "        file.write(pose_data)"
   ]
  }
 ],
 "metadata": {
  "kernelspec": {
   "display_name": "cv",
   "language": "python",
   "name": "python3"
  },
  "language_info": {
   "codemirror_mode": {
    "name": "ipython",
    "version": 3
   },
   "file_extension": ".py",
   "mimetype": "text/x-python",
   "name": "python",
   "nbconvert_exporter": "python",
   "pygments_lexer": "ipython3",
   "version": "3.11.4"
  }
 },
 "nbformat": 4,
 "nbformat_minor": 2
}
